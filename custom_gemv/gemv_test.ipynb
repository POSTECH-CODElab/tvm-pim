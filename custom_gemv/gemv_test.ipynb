{
 "cells": [
  {
   "cell_type": "code",
   "execution_count": 12,
   "metadata": {},
   "outputs": [],
   "source": [
    "import tvm\n",
    "from tvm import te\n",
    "import numpy as np"
   ]
  },
  {
   "cell_type": "code",
   "execution_count": 13,
   "metadata": {},
   "outputs": [],
   "source": [
    "M = 2048\n",
    "K = 2048\n",
    "bn = 32\n",
    "\n",
    "dtype = \"int32\"\n",
    "target = tvm.target.Target(target=\"upmem\", host=\"llvm\")"
   ]
  },
  {
   "cell_type": "code",
   "execution_count": 14,
   "metadata": {},
   "outputs": [],
   "source": [
    "k = te.reduce_axis((0, K), \"k\")\n",
    "A = te.placeholder((M, K), dtype, \"A\")\n",
    "B = te.placeholder((K,), dtype, \"B\")\n",
    "C = te.compute((M,), lambda y: te.sum(A[y, k] * B[k], axis=k), name=\"C\")\n",
    "\n",
    "s = te.create_schedule(C.op)"
   ]
  },
  {
   "cell_type": "code",
   "execution_count": 15,
   "metadata": {},
   "outputs": [],
   "source": [
    "xb, _ = s[C].split(k, nparts = 4)\n",
    "CF = s.rfactor(C, xb)"
   ]
  },
  {
   "cell_type": "code",
   "execution_count": 16,
   "metadata": {},
   "outputs": [],
   "source": [
    "AL = s.cache_read(A, \"local\", [CF])\n",
    "BL = s.cache_read(B, \"local\", [CF])\n",
    "CL = s.cache_write(CF, \"local\")"
   ]
  },
  {
   "cell_type": "code",
   "execution_count": 17,
   "metadata": {},
   "outputs": [],
   "source": [
    "xb, yb =s[CF].op.axis"
   ]
  },
  {
   "cell_type": "code",
   "execution_count": 18,
   "metadata": {},
   "outputs": [],
   "source": [
    "yb, yo = s[CF].split(yb, nparts=4)\n",
    "yo, yi = s[CF].split(yo, nparts=16)\n",
    "yi, yc = s[CF].split(yi, 2)\n",
    "s[CF].reorder(yo, yi, yc)"
   ]
  },
  {
   "cell_type": "code",
   "execution_count": 19,
   "metadata": {},
   "outputs": [],
   "source": [
    "s[CF].bind(yb, te.thread_axis(\"blockIdx.x\"))\n",
    "s[CF].bind(xb, te.thread_axis(\"blockIdx.y\"))\n",
    "s[CF].bind(yo, te.thread_axis(\"threadIdx.x\"))"
   ]
  },
  {
   "cell_type": "code",
   "execution_count": 22,
   "metadata": {},
   "outputs": [],
   "source": [
    "s[CL].compute_at(s[CF], yi)\n",
    "xo, xi = s[CL].split(s[CL].op.reduce_axis[0], 64)\n",
    "s[CL].reorder(s[CL].op.axis[0], xo, xi)\n",
    "s[AL].compute_at(s[CL], xo)\n",
    "s[BL].compute_at(s[CL], xo)"
   ]
  },
  {
   "cell_type": "code",
   "execution_count": 23,
   "metadata": {},
   "outputs": [
    {
     "name": "stdout",
     "output_type": "stream",
     "text": [
      "# from tvm.script import ir as I\n",
      "# from tvm.script import tir as T\n",
      "\n",
      "@I.ir_module\n",
      "class Module:\n",
      "    @T.prim_func\n",
      "    def main(A: T.Buffer((2048, 2048), \"int32\"), B: T.Buffer((2048,), \"int32\"), C: T.Buffer((2048,), \"int32\")):\n",
      "        T.func_attr({\"from_legacy_te_schedule\": T.bool(True), \"global_symbol\": \"main\", \"tir.noalias\": T.bool(True)})\n",
      "        C_rf = T.allocate([8192], \"int32\", \"global\")\n",
      "        C_rf_1 = T.Buffer((8192,), \"int32\", data=C_rf)\n",
      "        with T.launch_thread(\"blockIdx.y\", 4) as blockIdx_y:\n",
      "            C_rf_local = T.allocate([2], \"int32\", \"local\")\n",
      "            A_local = T.allocate([64], \"int32\", \"local\")\n",
      "            B_local = T.allocate([64], \"int32\", \"local\")\n",
      "            blockIdx_x = T.launch_thread(\"blockIdx.x\", 4)\n",
      "            threadIdx_x = T.launch_thread(\"threadIdx.x\", 16)\n",
      "            for y_inner_inner_outer in range(16):\n",
      "                C_rf_local_1 = T.Buffer((2,), \"int32\", data=C_rf_local, scope=\"local\", align=8)\n",
      "                for y_c in range(2):\n",
      "                    C_rf_local_1[y_c] = 0\n",
      "                    for k_inner_outer in range(8):\n",
      "                        A_local_1 = T.Buffer((64,), \"int32\", data=A_local, scope=\"local\")\n",
      "                        for ax1 in range(64):\n",
      "                            A_1 = T.Buffer((4194304,), \"int32\", data=A.data)\n",
      "                            A_local_1[ax1] = A_1[blockIdx_x * 1048576 + threadIdx_x * 65536 + y_inner_inner_outer * 4096 + y_c * 2048 + blockIdx_y * 512 + k_inner_outer * 64 + ax1]\n",
      "                        B_local_1 = T.Buffer((64,), \"int32\", data=B_local, scope=\"local\")\n",
      "                        for ax0 in range(64):\n",
      "                            B_local_1[ax0] = B[blockIdx_y * 512 + k_inner_outer * 64 + ax0]\n",
      "                        for k_inner_inner in range(64):\n",
      "                            C_rf_local_1[y_c] = C_rf_local_1[y_c] + A_local_1[k_inner_inner] * B_local_1[k_inner_inner]\n",
      "                for y_inner_inner_inner in range(2):\n",
      "                    C_rf_1[blockIdx_y * 2048 + blockIdx_x * 512 + threadIdx_x * 32 + y_inner_inner_outer * 2 + y_inner_inner_inner] = C_rf_local_1[y_inner_inner_inner]\n",
      "        for ax0 in range(2048):\n",
      "            C[ax0] = 0\n",
      "            for k_outer_v in range(4):\n",
      "                C[ax0] = C[ax0] + C_rf_1[k_outer_v * 2048 + ax0]\n"
     ]
    }
   ],
   "source": [
    "print(tvm.lower(s, [A, B, C], simple_mode=True))"
   ]
  },
  {
   "cell_type": "code",
   "execution_count": 24,
   "metadata": {},
   "outputs": [],
   "source": [
    "func = tvm.build(s, [A, B, C], target=target, name=\"mmult\")"
   ]
  },
  {
   "cell_type": "code",
   "execution_count": 25,
   "metadata": {},
   "outputs": [
    {
     "data": {
      "text/plain": [
       "Module(llvm, 325a1f8)"
      ]
     },
     "execution_count": 25,
     "metadata": {},
     "output_type": "execute_result"
    }
   ],
   "source": [
    "func"
   ]
  },
  {
   "cell_type": "code",
   "execution_count": null,
   "metadata": {},
   "outputs": [],
   "source": []
  }
 ],
 "metadata": {
  "kernelspec": {
   "display_name": "Python 3",
   "language": "python",
   "name": "python3"
  },
  "language_info": {
   "codemirror_mode": {
    "name": "ipython",
    "version": 3
   },
   "file_extension": ".py",
   "mimetype": "text/x-python",
   "name": "python",
   "nbconvert_exporter": "python",
   "pygments_lexer": "ipython3",
   "version": "3.8.10"
  }
 },
 "nbformat": 4,
 "nbformat_minor": 2
}
